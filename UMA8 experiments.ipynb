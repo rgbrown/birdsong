{
 "cells": [
  {
   "cell_type": "code",
   "execution_count": 79,
   "metadata": {},
   "outputs": [
    {
     "name": "stdout",
     "output_type": "stream",
     "text": [
      "Using matplotlib backend: Qt5Agg\n",
      "Populating the interactive namespace from numpy and matplotlib\n",
      "The autoreload extension is already loaded. To reload it, use:\n",
      "  %reload_ext autoreload\n"
     ]
    }
   ],
   "source": [
    "%pylab\n",
    "from lib import matools\n",
    "%load_ext autoreload\n",
    "%autoreload 2"
   ]
  },
  {
   "cell_type": "markdown",
   "metadata": {},
   "source": [
    "We begin by simply loading the data in. The positions are estimated from guessing component positions in photoshop from a photo of the circuitboard. The order was established manually - pretty sure this is right."
   ]
  },
  {
   "cell_type": "code",
   "execution_count": 140,
   "metadata": {},
   "outputs": [],
   "source": [
    "positions = 1e-3*np.array([\n",
    "    [0, 0],\n",
    "    [42.6, -0.5],\n",
    "    [21.5, -37.7],\n",
    "    [-21.2, -37.7],\n",
    "    [-42.3, -0.8],\n",
    "    [-21.2, 35.8],\n",
    "    [21.4, 36.2]])\n",
    "\n"
   ]
  },
  {
   "cell_type": "code",
   "execution_count": 103,
   "metadata": {},
   "outputs": [],
   "source": [
    "positions = 90/92.5*1e-3*np.array([\n",
    "    [0, 0],\n",
    "    [44.1, 0],\n",
    "    [22, -38.6],\n",
    "    [-22, -38.6],\n",
    "    [-44.1, 0],\n",
    "    [-22, 38.6],\n",
    "    [22, 38.6]\n",
    "])"
   ]
  },
  {
   "cell_type": "code",
   "execution_count": 104,
   "metadata": {},
   "outputs": [],
   "source": [
    "ma = matools.MicrophoneArray(positions)\n",
    "ma.load_data('datasets/uma8 calibration data/UMA8_Track ')\n",
    "t = ma.get_time()"
   ]
  },
  {
   "cell_type": "markdown",
   "metadata": {},
   "source": [
    "In the experiment, I whistled a tone at the array from each of the microphone directions, i.e. for values of \n",
    "\\begin{equation*}\n",
    "    \\theta \\in \\{0, \\pi/3, 2\\pi/3, \\pi, -2\\pi/3, -\\pi/3\\}\n",
    "\\end{equation*}\n",
    "probably around 1.5-2m away. The directions are obviously just a guess, so this will need to be corrected.\n",
    "\n",
    "The first step is to figure out the time values where the tones are located. So, we'll plot one channel so that we can estimate this."
   ]
  },
  {
   "cell_type": "code",
   "execution_count": 74,
   "metadata": {},
   "outputs": [
    {
     "data": {
      "text/plain": [
       "[<matplotlib.lines.Line2D at 0x7fc8ae855dd8>]"
      ]
     },
     "execution_count": 74,
     "metadata": {},
     "output_type": "execute_result"
    },
    {
     "data": {
      "image/png": "[encoded data removed]",
      "text/plain": [
       "<Figure size 432x288 with 1 Axes>"
      ]
     },
     "metadata": {
      "needs_background": "light"
     },
     "output_type": "display_data"
    }
   ],
   "source": [
    "plot(t, ma.data[0])"
   ]
  },
  {
   "cell_type": "code",
   "execution_count": 105,
   "metadata": {},
   "outputs": [],
   "source": [
    "#t_mark = np.array([6.1, 14.3, 22.8, 31.4, 38.64, 45.74])\n",
    "t_mark = np.array([1.7, 4.6, 7.9, 10.5, 16.6, 19.7])\n",
    "theta_mark = np.array([0, pi/3, 2*pi/3, pi, -2*pi/3, -pi/3])"
   ]
  },
  {
   "cell_type": "markdown",
   "metadata": {},
   "source": [
    "Plot each window, to check it all looks vaguely OK"
   ]
  },
  {
   "cell_type": "code",
   "execution_count": 141,
   "metadata": {},
   "outputs": [
    {
     "data": {
      "text/plain": [
       "<matplotlib.legend.Legend at 0x7fc89dc6c6d8>"
      ]
     },
     "execution_count": 141,
     "metadata": {},
     "output_type": "execute_result"
    }
   ],
   "source": [
    "#t_mark = np.array([6.1, 14.3, 22.8, 31.4, 38.64, 45.74])\n",
    "theta_mark = np.array([0, pi/3, 2*pi/3, pi, -2*pi/3, -40*pi/180])\n",
    "fig, ax = plt.subplots(3, 2, figsize=(12, 16))\n",
    "\n",
    "for k in range(len(t_mark)):\n",
    "    a = ax.flatten()[(k,)]\n",
    "    y, t = ma.get_window(t_mark[k], 0.005, theta_mark[k])\n",
    "    for w in y:\n",
    "        a.plot(t, w)\n",
    "\n",
    "    #y, t = ma.get_window(2, 0.005, 350*pi/180)\n",
    "legend([1, 2, 3, 4, 5, 6, 7])"
   ]
  },
  {
   "cell_type": "code",
   "execution_count": 139,
   "metadata": {},
   "outputs": [
    {
     "data": {
      "text/plain": [
       "<matplotlib.legend.Legend at 0x7fc88c8be828>"
      ]
     },
     "execution_count": 139,
     "metadata": {},
     "output_type": "execute_result"
    }
   ],
   "source": [
    "\n",
    "k = 0\n",
    "mask = logical_and(ma.get_time() >= t_mark[k], ma.get_time() <= (t_mark[k] + 0.005))\n",
    "t_win = ma.get_time()[mask]\n",
    "\n",
    "y = ma.data[:, mask]\n",
    "\n",
    "clf()\n",
    "for w in y:\n",
    "    plot(t_win, w)\n",
    "legend([1, 2, 3, 4, 5, 6, 7])   "
   ]
  },
  {
   "cell_type": "code",
   "execution_count": 115,
   "metadata": {},
   "outputs": [
    {
     "data": {
      "text/plain": [
       "<matplotlib.legend.Legend at 0x7fc89d937e10>"
      ]
     },
     "execution_count": 115,
     "metadata": {},
     "output_type": "execute_result"
    }
   ],
   "source": [
    "theta = -35*pi/180\n",
    "clf()\n",
    "y, t = ma.get_window(t_mark[5], 0.005, theta)\n",
    "for w in y:\n",
    "    plot(t, w)\n",
    "legend([1, 2, 3, 4, 5, 6, 7])   \n",
    "\n"
   ]
  },
  {
   "cell_type": "code",
   "execution_count": null,
   "metadata": {},
   "outputs": [],
   "source": [
    "norm(sum(y, 0))\n",
    "\n",
    "\n",
    "def foo(x, theta):\n",
    "    ma.positions[1:,:] = x\n",
    "    z = []\n",
    "    for k in range(6):\n",
    "        y, t = ma.get_window(t_mark[k], 0.005, theta[k])\n",
    "        z.append(norm(sum(y, 0)))\n",
    "    return array(z)\n",
    "\n",
    "def bar(x):\n",
    "    return -sum(foo(x[:-6].reshape(-1,2), x[-6:]))"
   ]
  },
  {
   "cell_type": "code",
   "execution_count": 61,
   "metadata": {},
   "outputs": [
    {
     "data": {
      "text/plain": [
       "-10.530064907091635"
      ]
     },
     "execution_count": 61,
     "metadata": {},
     "output_type": "execute_result"
    }
   ],
   "source": [
    "bar(x0)"
   ]
  },
  {
   "cell_type": "code",
   "execution_count": 64,
   "metadata": {},
   "outputs": [
    {
     "name": "stderr",
     "output_type": "stream",
     "text": [
      "/home/rgbrown/miniconda3/lib/python3.7/site-packages/scipy/signal/signaltools.py:1344: FutureWarning: Using a non-tuple sequence for multidimensional indexing is deprecated; use `arr[tuple(seq)]` instead of `arr[seq]`. In the future this will be interpreted as an array index, `arr[np.array(seq)]`, which will result either in an error or a different result.\n",
      "  out = out_full[ind]\n",
      "/home/rgbrown/miniconda3/lib/python3.7/site-packages/scipy/signal/signaltools.py:1344: FutureWarning: Using a non-tuple sequence for multidimensional indexing is deprecated; use `arr[tuple(seq)]` instead of `arr[seq]`. In the future this will be interpreted as an array index, `arr[np.array(seq)]`, which will result either in an error or a different result.\n",
      "  out = out_full[ind]\n"
     ]
    }
   ],
   "source": [
    "x0 = concatenate((positions[1:,:].flatten(), theta_mark))\n",
    "from scipy.optimize import minimize\n",
    "xmin = minimize(bar, x0, method='BFGS')"
   ]
  },
  {
   "cell_type": "code",
   "execution_count": 65,
   "metadata": {},
   "outputs": [
    {
     "data": {
      "text/plain": [
       "      fun: -10.987656460822802\n",
       " hess_inv: array([[ 9.24612551e-03, -4.86603148e-03,  3.77880985e-03,\n",
       "        -3.82760778e-03,  2.92810356e-03, -1.48528519e-03,\n",
       "         1.91035725e-03,  2.11973262e-03,  3.01729550e-03,\n",
       "         1.71491361e-03,  4.21713478e-03,  4.59218479e-05,\n",
       "        -9.77817718e-11, -6.43042025e-02, -5.33423605e-02,\n",
       "        -8.00561443e-03, -7.89007519e-02, -1.70017251e-02],\n",
       "       [-4.86603148e-03,  9.72036099e-03, -1.65065701e-03,\n",
       "         6.88584343e-03, -8.16955494e-05,  4.72817376e-03,\n",
       "         5.75127232e-04,  1.10235130e-03, -3.93659105e-04,\n",
       "         8.38343047e-04, -1.66033064e-03,  2.21942935e-03,\n",
       "         1.36291108e-10,  8.35319340e-02,  4.38636449e-02,\n",
       "         3.72071875e-02,  8.07268086e-02,  3.33994175e-02],\n",
       "       [ 3.77880985e-03, -1.65065701e-03,  7.16653874e-03,\n",
       "        -2.31954497e-03,  5.21599306e-03, -1.33445200e-03,\n",
       "         3.62893191e-03,  7.08669232e-04,  2.96764899e-03,\n",
       "         1.03910682e-03,  2.43091795e-03,  2.95357526e-04,\n",
       "         1.19254720e-10, -2.32047025e-02,  1.41909619e-02,\n",
       "         1.67249227e-02, -4.86240178e-02,  5.06497809e-02],\n",
       "       [-3.82760778e-03,  6.88584343e-03, -2.31954497e-03,\n",
       "         1.19198969e-02, -5.61334594e-04,  4.85809182e-03,\n",
       "         4.24911203e-04,  8.19417391e-04, -2.02184240e-04,\n",
       "         2.21908543e-04, -1.22179134e-03,  2.08579440e-03,\n",
       "         2.41171376e-10,  1.01417993e-01,  3.46285252e-02,\n",
       "         5.38705614e-02,  1.06087627e-01,  1.67267153e-02],\n",
       "       [ 2.92810356e-03, -8.16955494e-05,  5.21599306e-03,\n",
       "        -5.61334594e-04,  1.06836242e-02, -1.42375548e-03,\n",
       "         5.94070512e-03,  2.33717348e-04,  3.73609661e-03,\n",
       "         4.62090575e-04,  1.63890235e-03,  2.58126754e-04,\n",
       "         2.88198906e-10,  6.74935966e-03,  7.05394586e-02,\n",
       "         5.29564298e-02, -3.17591413e-02,  1.07337941e-01],\n",
       "       [-1.48528519e-03,  4.72817376e-03, -1.33445200e-03,\n",
       "         4.85809182e-03, -1.42375548e-03,  6.54347396e-03,\n",
       "        -5.67227980e-04,  1.92477359e-03, -4.81307157e-04,\n",
       "         1.80209500e-03, -5.17380406e-04,  2.72524576e-03,\n",
       "         6.95652533e-11,  3.71753537e-02, -6.04545526e-05,\n",
       "         2.44958421e-02,  4.54869018e-02, -6.98962325e-03],\n",
       "       [ 1.91035725e-03,  5.75127232e-04,  3.62893191e-03,\n",
       "         4.24911203e-04,  5.94070512e-03, -5.67227980e-04,\n",
       "         6.70582298e-03, -4.85913463e-04,  3.32787838e-03,\n",
       "        -2.28406534e-04,  1.82386531e-03, -7.89879117e-05,\n",
       "         1.90239672e-10,  2.06152268e-02,  5.48850435e-02,\n",
       "         3.39629984e-02, -8.30822291e-03,  6.80277353e-02],\n",
       "       [ 2.11973262e-03,  1.10235130e-03,  7.08669232e-04,\n",
       "         8.19417391e-04,  2.33717348e-04,  1.92477359e-03,\n",
       "        -4.85913463e-04,  6.33351659e-03,  2.71084934e-04,\n",
       "         3.98464155e-03,  7.38666062e-04,  3.19243559e-03,\n",
       "        -7.38243504e-11, -4.38713203e-02, -2.63200844e-02,\n",
       "        -2.96181174e-03, -4.32113268e-02, -7.57710182e-03],\n",
       "       [ 3.01729550e-03, -3.93659105e-04,  2.96764899e-03,\n",
       "        -2.02184240e-04,  3.73609661e-03, -4.81307157e-04,\n",
       "         3.32787838e-03,  2.71084934e-04,  5.23623257e-03,\n",
       "         9.22408473e-05,  2.75100720e-03, -7.09841062e-05,\n",
       "         1.70363886e-11,  9.02172764e-04,  9.07640685e-03,\n",
       "         6.20408408e-03, -2.19874925e-02,  2.01158824e-02],\n",
       "       [ 1.71491361e-03,  8.38343047e-04,  1.03910682e-03,\n",
       "         2.21908543e-04,  4.62090575e-04,  1.80209500e-03,\n",
       "        -2.28406534e-04,  3.98464155e-03,  9.22408473e-05,\n",
       "         7.29535426e-03,  4.39367016e-04,  3.38232578e-03,\n",
       "        -1.42679754e-10, -5.67126293e-02, -1.53871085e-02,\n",
       "        -1.51792562e-02, -5.21438131e-02, -3.00108569e-03],\n",
       "       [ 4.21713478e-03, -1.66033064e-03,  2.43091795e-03,\n",
       "        -1.22179134e-03,  1.63890235e-03, -5.17380406e-04,\n",
       "         1.82386531e-03,  7.38666062e-04,  2.75100720e-03,\n",
       "         4.39367016e-04,  6.31218820e-03, -6.28960521e-04,\n",
       "        -1.39130507e-10, -1.74324848e-02, -4.20011470e-02,\n",
       "        -1.25658847e-02, -2.92879460e-02, -2.42456612e-02],\n",
       "       [ 4.59218479e-05,  2.21942935e-03,  2.95357526e-04,\n",
       "         2.08579440e-03,  2.58126754e-04,  2.72524576e-03,\n",
       "        -7.89879117e-05,  3.19243559e-03, -7.09841062e-05,\n",
       "         3.38232578e-03, -6.28960521e-04,  5.69829623e-03,\n",
       "        -5.82076609e-11, -1.93154766e-02,  4.11806190e-03,\n",
       "         4.48389333e-04, -1.97556003e-02,  7.55802208e-03],\n",
       "       [-9.77817718e-11,  1.36291108e-10,  1.19254720e-10,\n",
       "         2.41171376e-10,  2.88198906e-10,  6.95652533e-11,\n",
       "         1.90239672e-10, -7.38243504e-11,  1.70363886e-11,\n",
       "        -1.42679754e-10, -1.39130507e-10, -5.82076609e-11,\n",
       "         4.31588510e-09,  4.04330288e-09,  4.17959399e-09,\n",
       "         4.17959399e-09,  3.49813845e-09,  4.70204324e-09],\n",
       "       [-6.43042025e-02,  8.35319340e-02, -2.32047025e-02,\n",
       "         1.01417993e-01,  6.74935966e-03,  3.71753537e-02,\n",
       "         2.06152268e-02, -4.38713203e-02,  9.02172764e-04,\n",
       "        -5.67126293e-02, -1.74324848e-02, -1.93154766e-02,\n",
       "         4.04330288e-09,  2.50280417e+00,  7.42714076e-01,\n",
       "         8.03111018e-01,  1.63941686e+00,  4.60136981e-01],\n",
       "       [-5.33423605e-02,  4.38636449e-02,  1.41909619e-02,\n",
       "         3.46285252e-02,  7.05394586e-02, -6.04545526e-05,\n",
       "         5.48850435e-02, -2.63200844e-02,  9.07640685e-03,\n",
       "        -1.53871085e-02, -4.20011470e-02,  4.11806190e-03,\n",
       "         4.17959399e-09,  7.42714076e-01,  2.04339137e+00,\n",
       "         6.49715624e-01,  4.73088386e-01,  1.39590387e+00],\n",
       "       [-8.00561443e-03,  3.72071875e-02,  1.67249227e-02,\n",
       "         5.38705614e-02,  5.29564298e-02,  2.44958421e-02,\n",
       "         3.39629984e-02, -2.96181174e-03,  6.20408408e-03,\n",
       "        -1.51792562e-02, -1.25658847e-02,  4.48389333e-04,\n",
       "         4.17959399e-09,  8.03111018e-01,  6.49715624e-01,\n",
       "         1.91405747e+00,  6.64668230e-01,  9.37133966e-01],\n",
       "       [-7.89007519e-02,  8.07268086e-02, -4.86240178e-02,\n",
       "         1.06087627e-01, -3.17591413e-02,  4.54869018e-02,\n",
       "        -8.30822291e-03, -4.32113268e-02, -2.19874925e-02,\n",
       "        -5.21438131e-02, -2.92879460e-02, -1.97556003e-02,\n",
       "         3.49813845e-09,  1.63941686e+00,  4.73088386e-01,\n",
       "         6.64668230e-01,  3.06397298e+00, -1.83502615e-01],\n",
       "       [-1.70017251e-02,  3.33994175e-02,  5.06497809e-02,\n",
       "         1.67267153e-02,  1.07337941e-01, -6.98962325e-03,\n",
       "         6.80277353e-02, -7.57710182e-03,  2.01158824e-02,\n",
       "        -3.00108569e-03, -2.42456612e-02,  7.55802208e-03,\n",
       "         4.70204324e-09,  4.60136981e-01,  1.39590387e+00,\n",
       "         9.37133966e-01, -1.83502615e-01,  3.26202736e+00]])\n",
       "      jac: array([ 2.88128853e-04, -2.35438347e-04, -1.32679939e-04, -1.18017197e-04,\n",
       "        4.80413437e-05, -2.33173370e-04,  4.93168831e-04,  1.72019005e-04,\n",
       "       -4.45842743e-05,  3.49760056e-04, -8.42809677e-05,  2.02536583e-04,\n",
       "        1.43051147e-05,  1.39474869e-05, -3.85046005e-05,  3.98159027e-05,\n",
       "       -1.47819519e-05,  3.86238098e-05])\n",
       "  message: 'Desired error not necessarily achieved due to precision loss.'\n",
       "     nfev: 1341\n",
       "      nit: 41\n",
       "     njev: 67\n",
       "   status: 2\n",
       "  success: False\n",
       "        x: array([-0.00498595,  0.04876325,  0.02053573, -0.00769475, -0.02039768,\n",
       "       -0.0434063 , -0.06189097, -0.02557219, -0.08005294,  0.01379876,\n",
       "       -0.05755037,  0.05008367,  0.79445301,  1.66945268,  2.9974646 ,\n",
       "        3.96558637, -1.56408668,  0.29707348])"
      ]
     },
     "execution_count": 65,
     "metadata": {},
     "output_type": "execute_result"
    }
   ],
   "source": [
    "xmin"
   ]
  },
  {
   "cell_type": "markdown",
   "metadata": {},
   "source": [
    "Now we need to define an objective function - we're going to optimise the starting positions of the microphones. We'll stack the coordinates in the natural way"
   ]
  },
  {
   "cell_type": "code",
   "execution_count": 47,
   "metadata": {},
   "outputs": [],
   "source": [
    "def objective(x):\n",
    "    y = []\n",
    "    for k in range(6:\n",
    "        w, t = ma.get_window(t_mark[k], 0.005, theta[k])\n",
    "        y.append(norm(sum(w, 0)))\n",
    "    return -norm(array(y))"
   ]
  },
  {
   "cell_type": "code",
   "execution_count": 60,
   "metadata": {},
   "outputs": [
    {
     "ename": "NameError",
     "evalue": "name 'objective' is not defined",
     "output_type": "error",
     "traceback": [
      "\u001b[0;31m---------------------------------------------------------------------------\u001b[0m",
      "\u001b[0;31mNameError\u001b[0m                                 Traceback (most recent call last)",
      "\u001b[0;32m<ipython-input-60-d8c6597cf2a9>\u001b[0m in \u001b[0;36m<module>\u001b[0;34m\u001b[0m\n\u001b[0;32m----> 1\u001b[0;31m \u001b[0mobjective\u001b[0m\u001b[0;34m(\u001b[0m\u001b[0mx0\u001b[0m\u001b[0;34m)\u001b[0m\u001b[0;34m\u001b[0m\u001b[0m\n\u001b[0m",
      "\u001b[0;31mNameError\u001b[0m: name 'objective' is not defined"
     ]
    }
   ],
   "source": [
    "objective(x0)"
   ]
  },
  {
   "cell_type": "code",
   "execution_count": 59,
   "metadata": {},
   "outputs": [
    {
     "data": {
      "text/plain": [
       " final_simplex: (array([[ 3.58382818e-02, -7.31082342e-03,  6.22418231e-02,\n",
       "         4.46719353e-04,  3.96981886e-02, -3.54789075e-02,\n",
       "         2.16445803e-02, -3.48167986e-02,  1.77093365e-02,\n",
       "        -5.14833365e-03,  2.25196647e-02,  3.03695116e-02,\n",
       "         4.98174007e-02,  4.45903610e-02,  5.53552618e-03,\n",
       "         5.11285307e+00, -1.51860842e+01,  9.99474394e+00,\n",
       "         1.48929984e-01,  8.43092951e+00],\n",
       "       [ 3.58676698e-02, -7.15827237e-03,  6.23455345e-02,\n",
       "         4.32603677e-04,  3.97378455e-02, -3.51937096e-02,\n",
       "         2.17270084e-02, -3.48819549e-02,  1.79176687e-02,\n",
       "        -5.10871347e-03,  2.25102288e-02,  3.02361768e-02,\n",
       "         4.98171091e-02,  4.50112756e-02,  5.63484004e-03,\n",
       "         5.12716010e+00, -1.52379608e+01,  1.00065518e+01,\n",
       "         1.14452293e-01,  8.45350243e+00],\n",
       "       [ 3.59246360e-02, -6.91215977e-03,  6.24764432e-02,\n",
       "         3.98837612e-04,  3.97369030e-02, -3.53622922e-02,\n",
       "         2.15419996e-02, -3.47766030e-02,  1.76632257e-02,\n",
       "        -4.90456919e-03,  2.23906126e-02,  3.02417578e-02,\n",
       "         4.99756389e-02,  4.55933287e-02,  5.96325921e-03,\n",
       "         5.13863393e+00, -1.47342771e+01,  9.92164225e+00,\n",
       "         3.10993919e-01,  8.44487934e+00],\n",
       "       [ 3.60562300e-02, -6.88848311e-03,  6.24531109e-02,\n",
       "         3.98391557e-04,  3.99124787e-02, -3.47705404e-02,\n",
       "         2.18068947e-02, -3.47942811e-02,  1.80039127e-02,\n",
       "        -4.87550421e-03,  2.26314440e-02,  3.04785818e-02,\n",
       "         5.00179548e-02,  4.53227647e-02,  6.11282170e-03,\n",
       "         5.14558841e+00, -1.45783158e+01,  9.91285051e+00,\n",
       "         4.02495966e-01,  8.45186834e+00],\n",
       "       [ 3.57504352e-02, -6.98495457e-03,  6.20704865e-02,\n",
       "         4.06877842e-04,  4.00168092e-02, -3.50505006e-02,\n",
       "         2.15072096e-02, -3.48537125e-02,  1.76600432e-02,\n",
       "        -4.75075802e-03,  2.25611130e-02,  3.04981651e-02,\n",
       "         4.97680623e-02,  4.55846530e-02,  6.25177442e-03,\n",
       "         5.11633819e+00, -1.37706438e+01,  9.80621083e+00,\n",
       "         6.59097450e-01,  8.35675792e+00],\n",
       "       [ 3.57557982e-02, -7.31874654e-03,  6.21356006e-02,\n",
       "         4.37519204e-04,  3.96911185e-02, -3.53615883e-02,\n",
       "         2.13853866e-02, -3.51901843e-02,  1.73531683e-02,\n",
       "        -4.93840235e-03,  2.23828622e-02,  2.98683810e-02,\n",
       "         4.98320034e-02,  4.49619191e-02,  5.76795217e-03,\n",
       "         5.08406093e+00, -1.41534909e+01,  9.87211236e+00,\n",
       "         5.58168022e-01,  8.33667458e+00],\n",
       "       [ 3.58691577e-02, -7.08262500e-03,  6.22422460e-02,\n",
       "         4.17536031e-04,  3.95950009e-02, -3.52230991e-02,\n",
       "         2.15578991e-02, -3.50575840e-02,  1.77567440e-02,\n",
       "        -4.87296515e-03,  2.23502739e-02,  3.05091927e-02,\n",
       "         4.97229758e-02,  4.55067026e-02,  5.91433267e-03,\n",
       "         5.12163093e+00, -1.42220198e+01,  9.86345809e+00,\n",
       "         5.00312015e-01,  8.38739016e+00],\n",
       "       [ 3.58053176e-02, -7.04123060e-03,  6.22565165e-02,\n",
       "         4.20997618e-04,  3.97687795e-02, -3.55277837e-02,\n",
       "         2.18455406e-02, -3.48442867e-02,  1.76803981e-02,\n",
       "        -5.15733443e-03,  2.25891480e-02,  3.04260350e-02,\n",
       "         4.99456165e-02,  4.56515097e-02,  5.62486998e-03,\n",
       "         5.14965837e+00, -1.57561601e+01,  1.00510688e+01,\n",
       "        -1.34751765e-01,  8.50985001e+00],\n",
       "       [ 3.59265356e-02, -7.41941029e-03,  6.21350232e-02,\n",
       "         4.45540814e-04,  3.95099692e-02, -3.54347587e-02,\n",
       "         2.12199018e-02, -3.49659819e-02,  1.76742531e-02,\n",
       "        -4.66836840e-03,  2.22076972e-02,  3.10262015e-02,\n",
       "         4.94987714e-02,  4.50875152e-02,  6.07278101e-03,\n",
       "         5.09347277e+00, -1.26343268e+01,  9.68566210e+00,\n",
       "         1.18045139e+00,  8.27849984e+00],\n",
       "       [ 3.60109822e-02, -6.92373416e-03,  6.24441997e-02,\n",
       "         3.99256675e-04,  3.96501847e-02, -3.52044383e-02,\n",
       "         2.15612125e-02, -3.49034021e-02,  1.79358568e-02,\n",
       "        -4.73505891e-03,  2.24465088e-02,  3.07640736e-02,\n",
       "         4.97942257e-02,  4.55581146e-02,  6.19842658e-03,\n",
       "         5.13750105e+00, -1.38525129e+01,  9.80315080e+00,\n",
       "         6.67830635e-01,  8.39054157e+00],\n",
       "       [ 3.56390087e-02, -7.35103915e-03,  6.22450586e-02,\n",
       "         4.54646801e-04,  3.95990941e-02, -3.59114460e-02,\n",
       "         2.16043687e-02, -3.50993211e-02,  1.75732174e-02,\n",
       "        -5.26775919e-03,  2.23821407e-02,  2.99728107e-02,\n",
       "         4.97623985e-02,  4.48843799e-02,  5.27728092e-03,\n",
       "         5.10634808e+00, -1.57463004e+01,  1.00580133e+01,\n",
       "        -1.29227110e-01,  8.43961753e+00],\n",
       "       [ 3.56992771e-02, -7.70672101e-03,  6.23542278e-02,\n",
       "         4.90163056e-04,  3.97689020e-02, -3.57047857e-02,\n",
       "         2.16739045e-02, -3.53125013e-02,  1.75845169e-02,\n",
       "        -5.13051591e-03,  2.23777597e-02,  3.00176639e-02,\n",
       "         4.96463980e-02,  4.53643380e-02,  5.39201387e-03,\n",
       "         5.10291894e+00, -1.44799053e+01,  9.97779299e+00,\n",
       "         4.20207446e-01,  8.40431928e+00],\n",
       "       [ 3.59697211e-02, -7.05577095e-03,  6.23645063e-02,\n",
       "         4.06994791e-04,  3.98262267e-02, -3.47029059e-02,\n",
       "         2.15025323e-02, -3.49961517e-02,  1.76097804e-02,\n",
       "        -4.81555763e-03,  2.23914676e-02,  2.99936685e-02,\n",
       "         5.00261135e-02,  4.51638641e-02,  6.06454573e-03,\n",
       "         5.10543651e+00, -1.39895301e+01,  9.85332620e+00,\n",
       "         6.54965082e-01,  8.37017504e+00],\n",
       "       [ 3.61202331e-02, -6.54533024e-03,  6.23866818e-02,\n",
       "         3.47643221e-04,  4.00756388e-02, -3.46277162e-02,\n",
       "         2.13939459e-02, -3.44866721e-02,  1.77118616e-02,\n",
       "        -4.21071228e-03,  2.25885481e-02,  3.10157359e-02,\n",
       "         4.98858225e-02,  4.59692024e-02,  7.16203610e-03,\n",
       "         5.13812853e+00, -1.18687606e+01,  9.55067498e+00,\n",
       "         1.48177285e+00,  8.29541788e+00],\n",
       "       [ 3.58897000e-02, -6.45343156e-03,  6.20687894e-02,\n",
       "         3.46576617e-04,  3.97791730e-02, -3.52498303e-02,\n",
       "         2.13888997e-02, -3.43690633e-02,  1.76487427e-02,\n",
       "        -4.59495001e-03,  2.26389098e-02,  3.09002181e-02,\n",
       "         4.98455809e-02,  4.55513143e-02,  6.60619915e-03,\n",
       "         5.13849424e+00, -1.38881043e+01,  9.74044129e+00,\n",
       "         5.99410724e-01,  8.36315087e+00],\n",
       "       [ 3.62198739e-02, -6.65207963e-03,  6.26574904e-02,\n",
       "         3.64533367e-04,  4.03371764e-02, -3.45454461e-02,\n",
       "         2.18387382e-02, -3.41532163e-02,  1.79519856e-02,\n",
       "        -4.39969156e-03,  2.29458715e-02,  3.13881670e-02,\n",
       "         5.01887823e-02,  4.57163841e-02,  7.02945880e-03,\n",
       "         5.15960490e+00, -1.26588021e+01,  9.67008552e+00,\n",
       "         1.20039459e+00,  8.38917272e+00],\n",
       "       [ 3.61367741e-02, -6.43329957e-03,  6.25361140e-02,\n",
       "         3.42536511e-04,  3.99541580e-02, -3.46862483e-02,\n",
       "         2.15725311e-02, -3.44765118e-02,  1.78908634e-02,\n",
       "        -4.46275492e-03,  2.25248485e-02,  3.06223048e-02,\n",
       "         4.99962162e-02,  4.55893994e-02,  6.78820410e-03,\n",
       "         5.14826547e+00, -1.32767977e+01,  9.71543590e+00,\n",
       "         9.13881137e-01,  8.37506257e+00],\n",
       "       [ 3.60312496e-02, -6.70317809e-03,  6.24600245e-02,\n",
       "         3.77405537e-04,  3.96660523e-02, -3.53866187e-02,\n",
       "         2.15556771e-02, -3.44282125e-02,  1.76287109e-02,\n",
       "        -4.68945839e-03,  2.25082962e-02,  3.03054472e-02,\n",
       "         4.97139516e-02,  4.48733430e-02,  6.29650972e-03,\n",
       "         5.12917833e+00, -1.38617511e+01,  9.80042135e+00,\n",
       "         6.92093676e-01,  8.36536593e+00],\n",
       "       [ 3.60668297e-02, -6.85260886e-03,  6.26511240e-02,\n",
       "         3.97408042e-04,  3.96901335e-02, -3.51436056e-02,\n",
       "         2.17150365e-02, -3.47940419e-02,  1.80824092e-02,\n",
       "        -4.87279969e-03,  2.24541283e-02,  3.05401179e-02,\n",
       "         4.98626292e-02,  4.51346120e-02,  6.02785971e-03,\n",
       "         5.14650846e+00, -1.46325665e+01,  9.90229432e+00,\n",
       "         3.73252592e-01,  8.44282715e+00],\n",
       "       [ 3.58775396e-02, -6.85811842e-03,  6.25579002e-02,\n",
       "         3.97159991e-04,  4.01542283e-02, -3.49445078e-02,\n",
       "         2.17875836e-02, -3.48001696e-02,  1.78499372e-02,\n",
       "        -4.70440702e-03,  2.27368136e-02,  3.04577114e-02,\n",
       "         4.99001611e-02,  4.57264797e-02,  6.40826368e-03,\n",
       "         5.13927323e+00, -1.37944001e+01,  9.81803262e+00,\n",
       "         6.76330512e-01,  8.39472008e+00],\n",
       "       [ 3.60193534e-02, -6.88487552e-03,  6.26676319e-02,\n",
       "         4.00552507e-04,  3.98250667e-02, -3.52851376e-02,\n",
       "         2.17871505e-02, -3.48455215e-02,  1.78143811e-02,\n",
       "        -4.83749952e-03,  2.24870285e-02,  3.01093855e-02,\n",
       "         4.98793666e-02,  4.52115093e-02,  6.06336951e-03,\n",
       "         5.13996909e+00, -1.43867118e+01,  9.89751595e+00,\n",
       "         4.80186738e-01,  8.42746115e+00]]), array([-0.85842322, -0.8584208 , -0.85842033, -0.85841965, -0.85841949,\n",
       "       -0.85841914, -0.85841912, -0.85841886, -0.85841786, -0.85841738,\n",
       "       -0.85841738, -0.8584171 , -0.85841666, -0.85841649, -0.85841633,\n",
       "       -0.85841424, -0.85841339, -0.85841275, -0.85841272, -0.85841201,\n",
       "       -0.858412  ]))\n",
       "           fun: -0.8584232243835604\n",
       "       message: 'Maximum number of function evaluations has been exceeded.'\n",
       "          nfev: 4001\n",
       "           nit: 3172\n",
       "        status: 1\n",
       "       success: False\n",
       "             x: array([ 3.58382818e-02, -7.31082342e-03,  6.22418231e-02,  4.46719353e-04,\n",
       "        3.96981886e-02, -3.54789075e-02,  2.16445803e-02, -3.48167986e-02,\n",
       "        1.77093365e-02, -5.14833365e-03,  2.25196647e-02,  3.03695116e-02,\n",
       "        4.98174007e-02,  4.45903610e-02,  5.53552618e-03,  5.11285307e+00,\n",
       "       -1.51860842e+01,  9.99474394e+00,  1.48929984e-01,  8.43092951e+00])"
      ]
     },
     "execution_count": 59,
     "metadata": {},
     "output_type": "execute_result"
    }
   ],
   "source": [
    "from scipy.optimize import minimize\n",
    "minimize(objective, np.concatenate((positions.flatten(), theta_mark)), method='nelder-mead')"
   ]
  },
  {
   "cell_type": "code",
   "execution_count": 58,
   "metadata": {},
   "outputs": [
    {
     "data": {
      "text/plain": [
       "array([0, 1, 2, 0, 1, 2, 3, 4])"
      ]
     },
     "execution_count": 58,
     "metadata": {},
     "output_type": "execute_result"
    }
   ],
   "source": []
  }
 ],
 "metadata": {
  "kernelspec": {
   "display_name": "Python 3",
   "language": "python",
   "name": "python3"
  },
  "language_info": {
   "codemirror_mode": {
    "name": "ipython",
    "version": 3
   },
   "file_extension": ".py",
   "mimetype": "text/x-python",
   "name": "python",
   "nbconvert_exporter": "python",
   "pygments_lexer": "ipython3",
   "version": "3.7.0"
  }
 },
 "nbformat": 4,
 "nbformat_minor": 2
}
