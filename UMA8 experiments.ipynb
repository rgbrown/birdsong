{
 "cells": [
  {
   "cell_type": "code",
   "execution_count": 42,
   "metadata": {},
   "outputs": [
    {
     "name": "stdout",
     "output_type": "stream",
     "text": [
      "Using matplotlib backend: Qt5Agg\n",
      "Populating the interactive namespace from numpy and matplotlib\n",
      "The autoreload extension is already loaded. To reload it, use:\n",
      "  %reload_ext autoreload\n"
     ]
    }
   ],
   "source": [
    "%pylab\n",
    "from lib import matools\n",
    "%load_ext autoreload\n",
    "%autoreload 2"
   ]
  },
  {
   "cell_type": "code",
   "execution_count": 43,
   "metadata": {},
   "outputs": [
    {
     "data": {
      "text/plain": [
       "<matplotlib.legend.Legend at 0x24600653128>"
      ]
     },
     "execution_count": 43,
     "metadata": {},
     "output_type": "execute_result"
    }
   ],
   "source": [
    "positions = 1e-3*np.array([\n",
    "[0, 0],\n",
    "[42.6, -0.5],\n",
    "[21.5, -37.7],\n",
    "[-21.2, -37.7],\n",
    "[-42.3, -0.8],\n",
    "[-21.2, 35.8],\n",
    "[21.4, 36.2]])\n",
    "ma = matools.MicrophoneArray(positions)\n",
    "ma.load_data('datasets/uma8 calibration data/UMA8_Track ')\n",
    "t = ma.get_time()\n",
    "\n",
    "figure(1)\n",
    "for w in ma.data:\n",
    "    plot(t, w)\n",
    "legend([1, 2, 3, 4, 5, 6, 7])"
   ]
  },
  {
   "cell_type": "code",
   "execution_count": 56,
   "metadata": {},
   "outputs": [
    {
     "name": "stdout",
     "output_type": "stream",
     "text": [
      "[ 0.          5.88309752  3.8791701  -2.00555868 -5.81016202 -3.79165422\n",
      "  2.06957274]\n",
      "95997\n",
      "95991\n",
      "95993\n",
      "95999\n",
      "96003\n",
      "96001\n",
      "95995\n"
     ]
    },
    {
     "data": {
      "text/plain": [
       "<matplotlib.legend.Legend at 0x2461b6ac240>"
      ]
     },
     "execution_count": 56,
     "metadata": {},
     "output_type": "execute_result"
    }
   ],
   "source": [
    "figure(2)\n",
    "clf()\n",
    "y, t = ma.get_window(2, 0.005, 350*pi/180)\n",
    "for w in y:\n",
    "    plot(t, w)\n",
    "legend([1, 2, 3, 4, 5, 6, 7])"
   ]
  }
 ],
 "metadata": {
  "kernelspec": {
   "display_name": "Python 3",
   "language": "python",
   "name": "python3"
  },
  "language_info": {
   "codemirror_mode": {
    "name": "ipython",
    "version": 3
   },
   "file_extension": ".py",
   "mimetype": "text/x-python",
   "name": "python",
   "nbconvert_exporter": "python",
   "pygments_lexer": "ipython3",
   "version": "3.6.4"
  }
 },
 "nbformat": 4,
 "nbformat_minor": 2
}
