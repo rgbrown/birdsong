{
 "cells": [
  {
   "cell_type": "code",
   "execution_count": 2,
   "metadata": {
    "collapsed": false
   },
   "outputs": [
    {
     "name": "stdout",
     "output_type": "stream",
     "text": [
      "Using matplotlib backend: MacOSX\n"
     ]
    }
   ],
   "source": [
    "import numpy as np\n",
    "import matplotlib.pyplot as plt\n",
    "from IPython.display import display\n",
    "%matplotlib"
   ]
  },
  {
   "cell_type": "markdown",
   "metadata": {},
   "source": [
    "# Birdsong triangulation\n",
    "Quick analysis based on time of arrival methods. Suppose a signal arrives at microphones positioned at $A$, $B$ at times $t_a, t_b$. Then the source lies at a distance $2a = (t_a - t_b) u$ further from $A$ than $B$, where $u$ is the speed of sound. If $A, B$ are separated by $2c$ then, introducing Cartesian coordinates we can position $A$ at $(-c, 0)$ and $B$ at $(c, 0)$. The locus of possible origin points of the source is then given by the hyperbola\n",
    "\n",
    "\\begin{equation*}\n",
    "  \\frac{x^2}{a^2} - \\frac{y^2}{b^2} = 1.\n",
    "\\end{equation*}\n",
    "\n",
    "where $b^2 = c^2 - a^2$. We have that $c \\ge \\lvert a \\rvert$ by the geometry of the setup. The branch of hyperbola is determined by the the sign of $a$, and this is encoded nicely in the parametric form of the equations\n",
    "\n",
    "\\begin{align*}\n",
    "  x &= a \\cosh t \\\\\n",
    "  y &= b \\sinh t\n",
    "\\end{align*}\n",
    "\n",
    "Note $b > 0$ whereas $a$ is unrestricted in sign.\n",
    "\n",
    "This is readily generalised, suppose $A, B$ have vector positions $\\mathbf{u}, \\mathbf{v}$. Then, with $a$ defined as above, and $c = \\frac{1}{2} \\left\\|\\mathbf{v} - \\mathbf{u}\\right\\|$, and $b = \\sqrt{c^2 - a^2}$\n",
    "\n",
    "\\begin{equation*}\n",
    "  \\mathbf{x}(t) = \\frac{1}{2}(\\mathbf{u} + \\mathbf{v})\n",
    "  + \\frac{a}{2c} \\left(\\mathbf{v} - \\mathbf{u}\\right) \\cosh t \n",
    "  + \\frac{b}{2c} \\left(\\mathbf{v} - \\mathbf{u}\\right)^\\perp \\sinh t\n",
    "\\end{equation*}\n",
    "\n",
    "where $\\perp$ denotes a counterclockwise rotation by $90^\\circ$.\n",
    "\n",
    "In principle, with multiple pairs of microphones, the location of the source can be found by finding the intersection of the hyperbolae from the various pairs."
   ]
  },
  {
   "cell_type": "markdown",
   "metadata": {},
   "source": [
    "# Solving the linear (asymptote) problem\n",
    "The asymptotes to each hyperbola, expressed in an appropriate coordinate system are\n",
    "\n",
    "\\begin{equation*}\n",
    "  y = \\pm \\frac{b}{a} x\n",
    "\\end{equation*}\n",
    "\n",
    "We need a method to detect the six asymptotes which approximately line up. Assuming we have these, each asymptote can be written in the generic form\n",
    "\n",
    "\\begin{equation}\n",
    "  a_i x + b_i y + c_i = 0\n",
    "\\end{equation}\n",
    " \n",
    "where we can specify that $a_i^2 + b_i^2 = 1$. Then, the distance from this asymptote to a point $(x, y)$ in the plane is simply $a_i x + b_i y + c_i$. Working in homogeneous coordinates, we thus seek a point minimising the sum of the squared distances from a point to each of the lines. This can be specified as a constrained least squares problem:\n",
    "\n",
    "\\begin{align*}\n",
    "  \\min \\left\\| Ax \\right\\|^2 \\\\\n",
    "  \\text{s.t } Cx = 1\n",
    "\\end{align*}\n",
    "\n",
    "where\n",
    "\n",
    "\\begin{align*}\n",
    "  A &= \\begin{bmatrix}\n",
    "    a_1 & b_1 & c_1 \\\\\n",
    "    a_2 & b_2 & c_2 \\\\\n",
    "    \\vdots & \\vdots & \\vdots \\\\\n",
    "    a_6 & b_6 & c_6\n",
    "  \\end{bmatrix} &\n",
    "  C &= \\begin{bmatrix} \n",
    "    0 & 0 & 1\n",
    "  \\end{bmatrix}\n",
    "\\end{align*}\n",
    "\n",
    "This is an equality-constrained quadratic program, and can be solved by solving the KKT conditions directly:\n",
    "\n",
    "\\begin{equation*}\n",
    "  \\begin{bmatrix}\n",
    "    2A^TA & C^T \\\\\n",
    "    C & 0\n",
    "  \\end{bmatrix}\n",
    "  \\begin{bmatrix}\n",
    "    x^* \\\\ y^* \\\\ z^* \\\\ \\nu^*\n",
    "  \\end{bmatrix} =\n",
    "  \\begin{bmatrix}\n",
    "    0 \\\\ 0 \\\\ 0 \\\\ 1\n",
    "  \\end{bmatrix}\n",
    "\\end{equation*}"
   ]
  },
  {
   "cell_type": "markdown",
   "metadata": {},
   "source": [
    "# Problem setup"
   ]
  },
  {
   "cell_type": "code",
   "execution_count": 8,
   "metadata": {
    "collapsed": false
   },
   "outputs": [
    {
     "name": "stdout",
     "output_type": "stream",
     "text": [
      "0.006875\n"
     ]
    },
    {
     "data": {
      "text/plain": [
       "[<matplotlib.lines.Line2D at 0x1163d0630>]"
      ]
     },
     "execution_count": 8,
     "metadata": {},
     "output_type": "execute_result"
    }
   ],
   "source": [
    "c = 0.1 #m\n",
    "c_sound = 330 #m/s\n",
    "\n",
    "sample_rate = 48000;\n",
    "Ts = 1/sample_rate;\n",
    "print(Ts*c_sound)\n",
    "def time_error():\n",
    "    return (np.random.rand() - 0.5)*Ts\n",
    "\n",
    "\n",
    "microphones = np.array([[c, 0], [0, c], [-c, 0], [0, -c]])\n",
    "source_position =  np.array([75, 1])\n",
    "arrival_times = np.zeros(4)\n",
    "\n",
    "for i in range(4):\n",
    "    arrival_times[i] = (np.linalg.norm(source_position - microphones[i])/c_sound + \n",
    "                        time_error())\n",
    "\n",
    "for i in range(4):\n",
    "    plt.plot(microphones[i][0], microphones[i][1], 'ko')\n",
    "plt.plot(source_position[0], source_position[1], 'bo')"
   ]
  },
  {
   "cell_type": "code",
   "execution_count": 9,
   "metadata": {
    "collapsed": false
   },
   "outputs": [],
   "source": [
    "def asymptote_transform(e1, centre, m):\n",
    "    x0, y0 = centre\n",
    "    c, s = e1\n",
    "    l = np.array([m*c + s, m*s - c, -(m*c+s)*x0 - (m*s - c)*y0])\n",
    "    l = 1/np.linalg.norm(l[:2])*l\n",
    "    return l\n",
    "\n",
    "def compute_y(l, x):\n",
    "    a, b, c = l\n",
    "    y = -a/b*x - c/b\n",
    "    return y\n",
    "    \n",
    "def source_locus(u, v, distance_separation):\n",
    "    # distance_separation = how much further source is from u than v (can be negative)\n",
    "    a = distance_separation / 2\n",
    "    \n",
    "    w = v - u\n",
    "    c = 0.5*np.linalg.norm(w)\n",
    "    print(c**2 - a**2)\n",
    "    if c**2 - a**2 < 0:\n",
    "        b = 0\n",
    "    else:\n",
    "        b = np.sqrt(c**2 - a**2)\n",
    "    \n",
    "    e1 = w / (2*c) # axis aligned from u to v\n",
    "    e2 = np.array([-e1[1], e1[0]]) # perpendicular axis (right-handed)\n",
    "    \n",
    "    x0 = 0.5*(u + v) # origin is the midpoint of the two microphones\n",
    "    \n",
    "    # Hyperbola\n",
    "    def hyperbola(t):\n",
    "        x = x0[0] + a*e1[0]*np.cosh(t) + b*e2[0]*np.sinh(t)\n",
    "        y = x0[1] + a*e1[1]*np.cosh(t) + b*e2[1]*np.sinh(t)\n",
    "        return x, y\n",
    "        \n",
    "    # Compute asymptote lines in homogeneous form [a, b, c] where a**2 + b**2 = 1\n",
    "    l_1 = asymptote_transform(e1, x0, b/a)\n",
    "    l_2 = asymptote_transform(e1, x0, -b/a)\n",
    "    \n",
    "    return hyperbola, l_1, l_2"
   ]
  },
  {
   "cell_type": "code",
   "execution_count": 10,
   "metadata": {
    "collapsed": false
   },
   "outputs": [
    {
     "name": "stdout",
     "output_type": "stream",
     "text": [
      "0.00256076451993\n",
      "-0.000140954015157\n",
      "0.00234107458198\n",
      "0.00236690552504\n",
      "0.0099952643614\n",
      "0.00258550267705\n"
     ]
    }
   ],
   "source": [
    "pairs = [[0, 1], [0, 2], [0, 3], [1, 2], [1, 3], [2, 3]]\n",
    "x = np.linspace(-160, 160)\n",
    "t = np.linspace(-8.5, 8.5, 1000)\n",
    "L = []\n",
    "for pair in pairs:\n",
    "    i1, i2 = pair\n",
    "    u = microphones[i1]\n",
    "    v = microphones[i2]\n",
    "    dist = c_sound*(arrival_times[i1] - arrival_times[i2])\n",
    "    f_hyp, l_1, l_2 = source_locus(u, v, dist)\n",
    "    xh, yh = f_hyp(t)\n",
    "    plt.plot(xh, yh)\n",
    "    plt.plot(x, compute_y(l_1, x), ':')\n",
    "    plt.plot(x, compute_y(l_1, x), ':')\n",
    "    L.append(l_1)\n",
    "    L.append(l_2)\n",
    "L = np.array(L)"
   ]
  },
  {
   "cell_type": "code",
   "execution_count": 11,
   "metadata": {
    "collapsed": false
   },
   "outputs": [
    {
     "name": "stdout",
     "output_type": "stream",
     "text": [
      "75.0064134466\n"
     ]
    }
   ],
   "source": [
    "match_indices = np.where(sum((abs(np.dot(L[:,:2], L[:,:2].T)) > 0.95).astype('int')) >=4 )\n",
    "#print(match_indices)\n",
    "A = L[match_indices]\n",
    "C = np.array([[0, 0, 1]])\n",
    "K = np.bmat([[2*np.dot(A.T, A), C.T], [C, [[0]]]])\n",
    "q = np.array([0, 0, 0, 1])\n",
    "xsoln = np.linalg.solve(K, q)\n",
    "plt.plot(xsoln[0], xsoln[1], 'ro')\n",
    "\n",
    "print(np.linalg.norm(xsoln[:2] - source_position))"
   ]
  },
  {
   "cell_type": "code",
   "execution_count": null,
   "metadata": {
    "collapsed": false
   },
   "outputs": [],
   "source": [
    "np.random.rand()"
   ]
  }
 ],
 "metadata": {
  "kernelspec": {
   "display_name": "Python [conda root]",
   "language": "python",
   "name": "conda-root-py"
  },
  "language_info": {
   "codemirror_mode": {
    "name": "ipython",
    "version": 3
   },
   "file_extension": ".py",
   "mimetype": "text/x-python",
   "name": "python",
   "nbconvert_exporter": "python",
   "pygments_lexer": "ipython3",
   "version": "3.5.2"
  }
 },
 "nbformat": 4,
 "nbformat_minor": 2
}
