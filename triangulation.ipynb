{
 "cells": [
  {
   "cell_type": "code",
   "execution_count": 5,
   "metadata": {
    "collapsed": false
   },
   "outputs": [
    {
     "name": "stdout",
     "output_type": "stream",
     "text": [
      "Using matplotlib backend: MacOSX\n"
     ]
    }
   ],
   "source": [
    "import numpy as np\n",
    "import matplotlib.pyplot as plt\n",
    "from IPython.display import display\n",
    "%matplotlib"
   ]
  },
  {
   "cell_type": "markdown",
   "metadata": {},
   "source": [
    "# Birdsong triangulation\n",
    "Quick analysis based on time of arrival methods. Suppose a signal arrives at microphones positioned at $A$, $B$ at times $t_a, t_b$. Then the source lies at a distance $2a = (t_a - t_b) u$ further from $A$ than $B$, where $u$ is the speed of sound. If $A, B$ are separated by $2c$ then, introducing Cartesian coordinates we can position $A$ at $(-c, 0)$ and $B$ at $(c, 0)$. The locus of possible origin points of the source is then given by the hyperbola\n",
    "\\begin{equation*}\n",
    "  \\frac{x^2}{a^2} - \\frac{y^2}{b^2} = 1.\n",
    "\\end{equation*}\n",
    "where $b^2 = c^2 - a^2$. We have that $c \\ge \\lvert a \\rvert$ by the geometry of the setup. The branch of hyperbola is determined by the the sign of $a$, and this is encoded nicely in the parametric form of the equations\n",
    "\\begin{align*}\n",
    "  x &= a \\cosh t \\\\\n",
    "  y &= b \\sinh t\n",
    "\\end{align*}\n",
    "Note $b > 0$ whereas $a$ is unrestricted in sign.\n",
    "\n",
    "This is readily generalised, suppose $A, B$ have vector positions $\\mathbf{u}, \\mathbf{v}$. Then, with $a$ defined as above, and $c = \\frac{1}{2} \\left\\|\\mathbf{v} - \\mathbf{u}\\right\\|$, and $b = \\sqrt{c^2 - a^2}$\n",
    "\\begin{equation*}\n",
    "  \\mathbf{x}(t) = \\frac{1}{2}(\\mathbf{u} + \\mathbf{v})\n",
    "  + \\frac{a}{2c} \\left(\\mathbf{v} - \\mathbf{u}\\right) \\cosh t \n",
    "  + \\frac{b}{2c} \\left(\\mathbf{v} - \\mathbf{u}\\right)^\\perp \\sinh t\n",
    "\\end{equation*}\n",
    "where $\\perp$ denotes a counterclockwise rotation by $90^\\circ$.\n",
    "\n",
    "In principle, with multiple pairs of microphones, the location of the source can be found by finding the intersection of the hyperbolae from the various pairs."
   ]
  },
  {
   "cell_type": "code",
   "execution_count": null,
   "metadata": {
    "collapsed": true
   },
   "outputs": [],
   "source": []
  },
  {
   "cell_type": "code",
   "execution_count": null,
   "metadata": {
    "collapsed": true
   },
   "outputs": [],
   "source": []
  },
  {
   "cell_type": "code",
   "execution_count": 33,
   "metadata": {
    "collapsed": false
   },
   "outputs": [
    {
     "data": {
      "text/plain": [
       "[<matplotlib.lines.Line2D at 0x1170b8b38>]"
      ]
     },
     "execution_count": 33,
     "metadata": {},
     "output_type": "execute_result"
    }
   ],
   "source": [
    "c = 0.1 #m\n",
    "u = 330 #m/s\n",
    "t = np.linspace(-10, 10, 1000)\n",
    "microphones = np.array([[c, 0], [0, c], [-c, 0], [0, -c]])\n",
    "source =  np.array([3, 1])\n",
    "arrival_times = np.zeros(4)\n",
    "for i in range(4):\n",
    "    arrival_times[i] = np.linalg.norm(source - microphones[i])/u\n",
    "    \n",
    "R90 = np.array([[0, -1], [1, 0]])\n",
    "\n",
    "def hyperbola(t, u, v, a):\n",
    "    u = np.reshape(u, (2,1))\n",
    "    v = np.reshape(v, (2,1))\n",
    "    w = v - u\n",
    "    c = 0.5*np.linalg.norm(w)\n",
    "    b = np.sqrt(c**2 - a**2)\n",
    "    x = 0.5*(u + v) + a/(2*c)*w*np.cosh(t) + b/(2*c)*np.dot(R90, w)*np.sinh(t)\n",
    "    return x\n",
    "    \n",
    "pairs = [[0, 1], [0, 2], [0, 3], [1, 2], [1, 3], [2, 3]]\n",
    "for pair in pairs:\n",
    "    i1, i2 = pair\n",
    "    a = microphones[i1]\n",
    "    b = microphones[i2]\n",
    "    d = u*(arrival_times[i1] - arrival_times[i2])/2\n",
    "    x = hyperbola(np.linspace(-5, 5), a, b, d)\n",
    "    plt.plot(x[0], x[1])\n",
    "\n",
    "    \n",
    "    \n",
    "    \n",
    "\n",
    "\n",
    "\n",
    "\n",
    "for m in microphones:\n",
    "    plt.plot(m[0], m[1], 'ko')\n",
    "plt.plot(source[0], source[1], 'ro')\n"
   ]
  },
  {
   "cell_type": "code",
   "execution_count": null,
   "metadata": {
    "collapsed": true
   },
   "outputs": [],
   "source": []
  },
  {
   "cell_type": "code",
   "execution_count": null,
   "metadata": {
    "collapsed": false
   },
   "outputs": [],
   "source": [
    "x = np.array([1, 2])\n",
    "print(np.reshape(x, (2, 1))*np.linspace(0, 1, 10))"
   ]
  }
 ],
 "metadata": {
  "kernelspec": {
   "display_name": "Python [conda root]",
   "language": "python",
   "name": "conda-root-py"
  }
 },
 "nbformat": 4,
 "nbformat_minor": 2
}
